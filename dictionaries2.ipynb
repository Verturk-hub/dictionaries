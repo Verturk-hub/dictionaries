{
 "cells": [
  {
   "cell_type": "code",
   "execution_count": 2,
   "source": [
    "drinks = [\r\n",
    "    {\r\n",
    "        \"type\": \"water\",\r\n",
    "        \"calories\": 0,\r\n",
    "        \"number_consumed\": 7,\r\n",
    "        \"caffeinated\": False\r\n",
    "    },\r\n",
    "    {\r\n",
    "        \"type\": \"orange juice\",\r\n",
    "        \"calories\": 220,\r\n",
    "        \"number_consumed\": 4,\r\n",
    "        \"caffeinated\": False\r\n",
    "    },\r\n",
    "    {\r\n",
    "        \"type\": \"gatorade\",\r\n",
    "        \"calories\": 140,\r\n",
    "        \"number_consumed\": 1,\r\n",
    "        \"caffeinated\": False\r\n",
    "    },\r\n",
    "    {\r\n",
    "        \"type\": \"cappuccino\",\r\n",
    "        \"calories\": 350,\r\n",
    "        \"number_consumed\": 2,\r\n",
    "        \"caffeinated\": True\r\n",
    "    },\r\n",
    "    {\r\n",
    "        \"type\": \"hot tea\",\r\n",
    "        \"calories\": 5,\r\n",
    "        \"number_consumed\": 3,\r\n",
    "        \"caffeinated\": True\r\n",
    "    }\r\n",
    "]"
   ],
   "outputs": [],
   "metadata": {}
  },
  {
   "cell_type": "code",
   "execution_count": 3,
   "source": [
    "for drink in drinks:\r\n",
    "  print(drink['type'])"
   ],
   "outputs": [
    {
     "output_type": "stream",
     "name": "stdout",
     "text": [
      "water\n",
      "orange juice\n",
      "gatorade\n",
      "cappuccino\n",
      "hot tea\n"
     ]
    }
   ],
   "metadata": {}
  },
  {
   "cell_type": "code",
   "execution_count": 4,
   "source": [
    "count = 0\r\n",
    "for drink in drinks:\r\n",
    "  count += drink['number_consumed']\r\n",
    "print(count)"
   ],
   "outputs": [
    {
     "output_type": "stream",
     "name": "stdout",
     "text": [
      "17\n"
     ]
    }
   ],
   "metadata": {}
  },
  {
   "cell_type": "code",
   "execution_count": 5,
   "source": [
    "consumed_calories=0\r\n",
    "for drink in drinks:\r\n",
    "  consumed_calories += drink['calories']\r\n",
    "print(consumed_calories)"
   ],
   "outputs": [
    {
     "output_type": "stream",
     "name": "stdout",
     "text": [
      "715\n"
     ]
    }
   ],
   "metadata": {}
  },
  {
   "cell_type": "code",
   "execution_count": 6,
   "source": [
    "caffeinated_drinks=0\r\n",
    "for drink in drinks:\r\n",
    "  if drink['caffeinated']== True:\r\n",
    "    caffeinated_drinks += 1\r\n",
    "  else:\r\n",
    "    pass\r\n",
    "\r\n",
    "print(caffeinated_drinks)"
   ],
   "outputs": [
    {
     "output_type": "stream",
     "name": "stdout",
     "text": [
      "2\n"
     ]
    }
   ],
   "metadata": {}
  },
  {
   "cell_type": "code",
   "execution_count": 7,
   "source": [
    "non_caffeinated_drinks=0\r\n",
    "for drink in drinks:\r\n",
    "  if drink['caffeinated']== False:\r\n",
    "    non_caffeinated_drinks += 1\r\n",
    "  else:\r\n",
    "    pass\r\n",
    "\r\n",
    "print(non_caffeinated_drinks)\r\n"
   ],
   "outputs": [
    {
     "output_type": "stream",
     "name": "stdout",
     "text": [
      "3\n"
     ]
    }
   ],
   "metadata": {}
  },
  {
   "cell_type": "code",
   "execution_count": 8,
   "source": [
    "for drink in drinks:\r\n",
    "  calories = drink['calories']\r\n",
    "  \r\n",
    "print(calories)"
   ],
   "outputs": [
    {
     "output_type": "stream",
     "name": "stdout",
     "text": [
      "5\n"
     ]
    }
   ],
   "metadata": {}
  },
  {
   "cell_type": "code",
   "execution_count": 9,
   "source": [
    "for drink in drinks:\r\n",
    "  print(drink['type'] , '=' , drink['number_consumed'])"
   ],
   "outputs": [
    {
     "output_type": "stream",
     "name": "stdout",
     "text": [
      "water = 7\n",
      "orange juice = 4\n",
      "gatorade = 1\n",
      "cappuccino = 2\n",
      "hot tea = 3\n"
     ]
    }
   ],
   "metadata": {}
  },
  {
   "cell_type": "code",
   "execution_count": 10,
   "source": [
    "total_calories = 0\r\n",
    "for drink in drinks:\r\n",
    "  total_calories += drink['number_consumed'] * drink['calories']\r\n",
    "  total_consumed = drink ['number_consumed']\r\n",
    "\r\n",
    "print( total_calories / total_consumed  )"
   ],
   "outputs": [
    {
     "output_type": "stream",
     "name": "stdout",
     "text": [
      "578.3333333333334\n"
     ]
    }
   ],
   "metadata": {}
  }
 ],
 "metadata": {
  "orig_nbformat": 4,
  "language_info": {
   "name": "python",
   "version": "3.8.3",
   "mimetype": "text/x-python",
   "codemirror_mode": {
    "name": "ipython",
    "version": 3
   },
   "pygments_lexer": "ipython3",
   "nbconvert_exporter": "python",
   "file_extension": ".py"
  },
  "kernelspec": {
   "name": "python3",
   "display_name": "Python 3.8.3 64-bit ('base': conda)"
  },
  "interpreter": {
   "hash": "46182d5f787c7496ac3d2ccd0c5d8bf41bffd3ac5e5e93146af501a7f382c533"
  }
 },
 "nbformat": 4,
 "nbformat_minor": 2
}